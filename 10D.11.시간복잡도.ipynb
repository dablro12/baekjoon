{
 "cells": [
  {
   "cell_type": "code",
   "execution_count": 1,
   "id": "2713d0b6-0f97-4cf2-81ae-12cf9846b121",
   "metadata": {},
   "outputs": [
    {
     "name": "stdin",
     "output_type": "stream",
     "text": [
      " 1\n"
     ]
    },
    {
     "name": "stdout",
     "output_type": "stream",
     "text": [
      "1\n",
      "0\n"
     ]
    }
   ],
   "source": [
    "\"\"\"\n",
    "문제\n",
    "오늘도 서준이는 알고리즘의 수행시간 수업 조교를 하고 있다. 아빠가 수업한 내용을 학생들이 잘 이해했는지 문제를 통해서 확인해보자.\n",
    "\n",
    "입력의 크기 n이 주어지면 MenOfPassion 알고리즘 수행 시간을 예제 출력과 같은 방식으로 출력해보자.\n",
    "\n",
    "MenOfPassion 알고리즘은 다음과 같다.\n",
    "\n",
    "MenOfPassion(A[], n) {\n",
    "    i = ⌊n / 2⌋;\n",
    "    return A[i]; # 코드1\n",
    "}\n",
    "입력\n",
    "첫째 줄에 입력의 크기 n(1 ≤ n ≤ 500,000)이 주어진다.\n",
    "\n",
    "출력\n",
    "첫째 줄에 코드1 의 수행 횟수를 출력한다.\n",
    "\n",
    "둘째 줄에 코드1의 수행 횟수를 다항식으로 나타내었을 때, 최고차항의 차수를 출력한다. 단, 다항식으로 나타낼 수 없거나 최고차항의 차수가 3보다 크면 4를 출력한다.\n",
    "\n",
    "예제 입력 1 \n",
    "1\n",
    "예제 출력 1 \n",
    "1\n",
    "0\n",
    "코드1 이 1회 수행되고 알고리즘은 상수 시간이 소요된다.\n",
    "\"\"\"\n",
    "n = int(input())\n",
    "print(1)\n",
    "print(0)"
   ]
  },
  {
   "cell_type": "code",
   "execution_count": 2,
   "id": "47d2bb65-e611-4fde-82ce-34059122b060",
   "metadata": {},
   "outputs": [
    {
     "name": "stdin",
     "output_type": "stream",
     "text": [
      " 7\n"
     ]
    },
    {
     "name": "stdout",
     "output_type": "stream",
     "text": [
      "7\n",
      "1\n"
     ]
    }
   ],
   "source": [
    "\"\"\"\n",
    "문제\n",
    "오늘도 서준이는 알고리즘의 수행시간 수업 조교를 하고 있다. 아빠가 수업한 내용을 학생들이 잘 이해했는지 문제를 통해서 확인해보자.\n",
    "\n",
    "입력의 크기 n이 주어지면 MenOfPassion 알고리즘 수행 시간을 예제 출력과 같은 방식으로 출력해보자.\n",
    "\n",
    "MenOfPassion 알고리즘은 다음과 같다.\n",
    "\n",
    "MenOfPassion(A[], n) {\n",
    "    sum <- 0;\n",
    "    for i <- 1 to n\n",
    "        sum <- sum + A[i]; # 코드1\n",
    "    return sum;\n",
    "}\n",
    "입력\n",
    "첫째 줄에 입력의 크기 n(1 ≤ n ≤ 500,000)이 주어진다.\n",
    "\n",
    "출력\n",
    "첫째 줄에 코드1 의 수행 횟수를 출력한다.\n",
    "\n",
    "둘째 줄에 코드1의 수행 횟수를 다항식으로 나타내었을 때, 최고차항의 차수를 출력한다. 단, 다항식으로 나타낼 수 없거나 최고차항의 차수가 3보다 크면 4를 출력한다.\n",
    "\n",
    "예제 입력 1 \n",
    "7\n",
    "예제 출력 1 \n",
    "7\n",
    "1\n",
    "코드1 이 7회 수행되고 알고리즘의 수행 시간이 n에 비례한다.\n",
    "\"\"\"\n",
    "n = int(input())\n",
    "cnt = n\n",
    "degree = 1\n",
    "print(cnt)\n",
    "print(degree)\n"
   ]
  },
  {
   "cell_type": "code",
   "execution_count": 3,
   "id": "1c9fd140-3e5d-4378-8b1e-87b167f1f618",
   "metadata": {},
   "outputs": [
    {
     "name": "stdin",
     "output_type": "stream",
     "text": [
      " 7\n"
     ]
    },
    {
     "name": "stdout",
     "output_type": "stream",
     "text": [
      "823543\n",
      "2\n"
     ]
    }
   ],
   "source": [
    "\"\"\"\n",
    "문제\n",
    "오늘도 서준이는 알고리즘의 수행시간 수업 조교를 하고 있다. 아빠가 수업한 내용을 학생들이 잘 이해했는지 문제를 통해서 확인해보자.\n",
    "\n",
    "입력의 크기 n이 주어지면 MenOfPassion 알고리즘 수행 시간을 예제 출력과 같은 방식으로 출력해보자.\n",
    "\n",
    "MenOfPassion 알고리즘은 다음과 같다.\n",
    "\n",
    "MenOfPassion(A[], n) {\n",
    "    sum <- 0;\n",
    "    for i <- 1 to n\n",
    "        for j <- 1 to n\n",
    "            sum <- sum + A[i] × A[j]; # 코드1\n",
    "    return sum;\n",
    "}\n",
    "입력\n",
    "첫째 줄에 입력의 크기 n(1 ≤ n ≤ 500,000)이 주어진다.\n",
    "\n",
    "출력\n",
    "첫째 줄에 코드1 의 수행 횟수를 출력한다.\n",
    "\n",
    "둘째 줄에 코드1의 수행 횟수를 다항식으로 나타내었을 때, 최고차항의 차수를 출력한다. 단, 다항식으로 나타낼 수 없거나 최고차항의 차수가 3보다 크면 4를 출력한다.\n",
    "\n",
    "예제 입력 1 \n",
    "7\n",
    "예제 출력 1 \n",
    "49\n",
    "2\n",
    "코드1 이 49회 수행되고 알고리즘의 수행 시간이 n2에 비례한다.\n",
    "\n",
    "\n",
    "\"\"\"\n",
    "n = int(input())\n",
    "print(n*n)\n",
    "print(2)"
   ]
  },
  {
   "cell_type": "code",
   "execution_count": 4,
   "id": "3e0ffccd-8089-451a-966c-f0f8383a78a3",
   "metadata": {},
   "outputs": [
    {
     "name": "stdin",
     "output_type": "stream",
     "text": [
      " 7\n"
     ]
    },
    {
     "name": "stdout",
     "output_type": "stream",
     "text": [
      "21.0\n",
      "2\n"
     ]
    }
   ],
   "source": [
    "\"\"\"\n",
    "문제\n",
    "오늘도 서준이는 알고리즘의 수행시간 수업 조교를 하고 있다. 아빠가 수업한 내용을 학생들이 잘 이해했는지 문제를 통해서 확인해보자.\n",
    "\n",
    "입력의 크기 n이 주어지면 MenOfPassion 알고리즘 수행 시간을 예제 출력과 같은 방식으로 출력해보자.\n",
    "\n",
    "MenOfPassion 알고리즘은 다음과 같다.\n",
    "\n",
    "MenOfPassion(A[], n) {\n",
    "    sum <- 0;\n",
    "    for i <- 1 to n - 1\n",
    "        for j <- i + 1 to n\n",
    "            sum <- sum + A[i] × A[j]; # 코드1\n",
    "    return sum;\n",
    "}\n",
    "입력\n",
    "첫째 줄에 입력의 크기 n(1 ≤ n ≤ 500,000)이 주어진다.\n",
    "\n",
    "출력\n",
    "첫째 줄에 코드1 의 수행 횟수를 출력한다.\n",
    "\n",
    "둘째 줄에 코드1의 수행 횟수를 다항식으로 나타내었을 때, 최고차항의 차수를 출력한다. 단, 다항식으로 나타낼 수 없거나 최고차항의 차수가 3보다 크면 4를 출력한다.\n",
    "\n",
    "예제 입력 1 \n",
    "7\n",
    "예제 출력 1 \n",
    "21\n",
    "2\n",
    "코드1 이 21회 수행되고 알고리즘의 수행 시간이 n2에 비례한다.\n",
    "\"\"\"\n",
    "n = int(input())\n",
    "print(int((n-1)*(n)/2))\n",
    "print(2)"
   ]
  },
  {
   "cell_type": "code",
   "execution_count": 7,
   "id": "4fd4b0dd-d033-4ba7-bb0c-321daa557138",
   "metadata": {},
   "outputs": [
    {
     "name": "stdin",
     "output_type": "stream",
     "text": [
      " 7\n"
     ]
    },
    {
     "name": "stdout",
     "output_type": "stream",
     "text": [
      "343\n",
      "3\n"
     ]
    }
   ],
   "source": [
    "\"\"\"\n",
    "문제\n",
    "오늘도 서준이는 알고리즘의 수행시간 수업 조교를 하고 있다. 아빠가 수업한 내용을 학생들이 잘 이해했는지 문제를 통해서 확인해보자.\n",
    "\n",
    "입력의 크기 n이 주어지면 MenOfPassion 알고리즘 수행 시간을 예제 출력과 같은 방식으로 출력해보자.\n",
    "\n",
    "MenOfPassion 알고리즘은 다음과 같다.\n",
    "\n",
    "MenOfPassion(A[], n) {\n",
    "    sum <- 0;\n",
    "    for i <- 1 to n\n",
    "        for j <- 1 to n\n",
    "            for k <- 1 to n\n",
    "                sum <- sum + A[i] × A[j] × A[k]; # 코드1\n",
    "    return sum;\n",
    "}\n",
    "입력\n",
    "첫째 줄에 입력의 크기 n(1 ≤ n ≤ 500,000)이 주어진다.\n",
    "\n",
    "출력\n",
    "첫째 줄에 코드1 의 수행 횟수를 출력한다.\n",
    "\n",
    "둘째 줄에 코드1의 수행 횟수를 다항식으로 나타내었을 때, 최고차항의 차수를 출력한다. 단, 다항식으로 나타낼 수 없거나 최고차항의 차수가 3보다 크면 4를 출력한다.\n",
    "\n",
    "예제 입력 1 \n",
    "7\n",
    "예제 출력 1 \n",
    "343\n",
    "3\n",
    "코드1 이 343회 수행되고 알고리즘의 수행 시간이 n3에 비례한다.\n",
    "\"\"\"\n",
    "n = int(input())\n",
    "print(n*n*n)\n",
    "print(3)\n"
   ]
  },
  {
   "cell_type": "code",
   "execution_count": 9,
   "id": "3def6aef-a727-42ec-85a4-cecd4de3ca3e",
   "metadata": {},
   "outputs": [
    {
     "name": "stdin",
     "output_type": "stream",
     "text": [
      " 7\n"
     ]
    },
    {
     "name": "stdout",
     "output_type": "stream",
     "text": [
      "35\n"
     ]
    }
   ],
   "source": [
    "\"\"\"\n",
    "문제\n",
    "오늘도 서준이는 알고리즘의 수행시간 수업 조교를 하고 있다. 아빠가 수업한 내용을 학생들이 잘 이해했는지 문제를 통해서 확인해보자.\n",
    "\n",
    "입력의 크기 n이 주어지면 MenOfPassion 알고리즘 수행 시간을 예제 출력과 같은 방식으로 출력해보자.\n",
    "\n",
    "MenOfPassion 알고리즘은 다음과 같다.\n",
    "\n",
    "MenOfPassion(A[], n) {\n",
    "    sum <- 0;\n",
    "    for i <- 1 to n - 2\n",
    "        for j <- i + 1 to n - 1\n",
    "            for k <- j + 1 to n\n",
    "                sum <- sum + A[i] × A[j] × A[k]; # 코드1\n",
    "    return sum;\n",
    "}\n",
    "입력\n",
    "첫째 줄에 입력의 크기 n(1 ≤ n ≤ 500,000)이 주어진다.\n",
    "\n",
    "출력\n",
    "첫째 줄에 코드1 의 수행 횟수를 출력한다.\n",
    "\n",
    "둘째 줄에 코드1의 수행 횟수를 다항식으로 나타내었을 때, 최고차항의 차수를 출력한다. 단, 다항식으로 나타낼 수 없거나 최고차항의 차수가 3보다 크면 4를 출력한다.\n",
    "\n",
    "예제 입력 1 \n",
    "7\n",
    "예제 출력 1 \n",
    "35\n",
    "3\n",
    "코드1 이 35회 수행되고 알고리즘의 수행 시간이 n3에 비례한다.\n",
    "\"\"\"\n",
    "import math\n",
    "n = int(input())\n",
    "cnt = n-2\n",
    "sum = 0\n",
    "for i in range(1, n-1):\n",
    "    sum+= cnt*i\n",
    "    cnt -= 1\n",
    "print(sum)\n",
    "print(3)"
   ]
  },
  {
   "cell_type": "code",
   "execution_count": 16,
   "id": "fb46e2ff-121c-4140-a9fe-1161e7f4d6c5",
   "metadata": {},
   "outputs": [
    {
     "name": "stdin",
     "output_type": "stream",
     "text": [
      " 7 7\n",
      " 8\n",
      " 10\n"
     ]
    },
    {
     "name": "stdout",
     "output_type": "stream",
     "text": [
      "1\n"
     ]
    }
   ],
   "source": [
    "\"\"\"\n",
    "문제\n",
    "오늘도 서준이는 점근적 표기 수업 조교를 하고 있다. 아빠가 수업한 내용을 학생들이 잘 이해했는지 문제를 통해서 확인해보자.\n",
    "\n",
    "알고리즘의 소요 시간을 나타내는 O-표기법(빅-오)을 다음과 같이 정의하자.\n",
    "\n",
    "O(g(n)) = {f(n) | 모든 n ≥ n0에 대하여 f(n) ≤ c × g(n)인 양의 상수 c와 n0가 존재한다}\n",
    "\n",
    "이 정의는 실제 O-표기법(https://en.wikipedia.org/wiki/Big_O_notation)과 다를 수 있다.\n",
    "\n",
    "함수 f(n) = a1n + a0, 양의 정수 c, n0가 주어질 경우 O(n) 정의를 만족하는지 알아보자.\n",
    "\n",
    "입력\n",
    "첫째 줄에 함수 f(n)을 나타내는 정수 a1, a0가 주어진다. (0 ≤ |ai| ≤ 100)\n",
    "\n",
    "다음 줄에 양의 정수 c가 주어진다. (1 ≤ c ≤ 100)\n",
    "\n",
    "다음 줄에 양의 정수 n0가 주어진다. (1 ≤ n0 ≤ 100)\n",
    "\n",
    "출력\n",
    "f(n), c, n0가 O(n) 정의를 만족하면 1, 아니면 0을 출력한다.\n",
    "\n",
    "예제 입력 1 \n",
    "7 7\n",
    "8\n",
    "1\n",
    "예제 출력 1 \n",
    "0\n",
    "f(n) = 7n + 7, g(n) = n, c = 8, n0 = 1이다. f(1) = 14, c × g(1) = 8이므로 O(n) 정의를 만족하지 못한다.\n",
    "\n",
    "예제 입력 2 \n",
    "7 7\n",
    "8\n",
    "10\n",
    "예제 출력 2 \n",
    "1\n",
    "f(n) = 7n + 7, g(n) = n, c = 8, n0 = 10이다. 모든 n ≥ 10에 대하여 7n + 7 ≤ 8n 이므로 O(n) 정의를 만족한다.\n",
    "\"\"\"\n",
    "a_1, a_0 = map(int, input().split())\n",
    "c = int(input())\n",
    "n_0 = int(input()) \n",
    "if a_1*n_0 + a_0 <= c * n_0 and (a_1 <= c):\n",
    "    print(1)\n",
    "else:\n",
    "    print(0)"
   ]
  }
 ],
 "metadata": {
  "kernelspec": {
   "display_name": "DH_2",
   "language": "python",
   "name": "dh"
  },
  "language_info": {
   "codemirror_mode": {
    "name": "ipython",
    "version": 3
   },
   "file_extension": ".py",
   "mimetype": "text/x-python",
   "name": "python",
   "nbconvert_exporter": "python",
   "pygments_lexer": "ipython3",
   "version": "3.9.13"
  }
 },
 "nbformat": 4,
 "nbformat_minor": 5
}
