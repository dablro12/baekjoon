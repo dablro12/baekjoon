{
 "cells": [
  {
   "cell_type": "code",
   "execution_count": null,
   "id": "994fc542-fce6-4bdb-9462-32c085fe3511",
   "metadata": {},
   "outputs": [
    {
     "name": "stdin",
     "output_type": "stream",
     "text": [
      " 2\n",
      " 3\n"
     ]
    },
    {
     "name": "stdout",
     "output_type": "stream",
     "text": [
      "6\n"
     ]
    }
   ],
   "source": [
    "\"\"\"\n",
    "문제\n",
    "정수 A, B 가 주어진다. 세로 길이가 A cm, 가로 길이가 B cm 인 아래와 같은 직사각형의 넓이를 cm2 단위로 구하시오.\n",
    "\n",
    "\n",
    "\n",
    "입력\n",
    "표준 입력에 다음과 같은 형태로 입력이 주어진다.\n",
    "\n",
    "A\n",
    "B\n",
    "출력\n",
    "세로 길이가 A cm, 가로 길이가 B cm인 직사각형의 넓이를 cm2 단위로 구하고, 단위 (cm2)를 생략하여 출력한다.\n",
    "\n",
    "제한\n",
    "1 ≦ A ≦ 100.\n",
    "1 ≦ B ≦ 100.\n",
    "A, B 는 정수이다.\n",
    "예제 입력 1 \n",
    "2\n",
    "3\n",
    "예제 출력 1 \n",
    "6\n",
    "세로 길이가 2 cm, 가로 길이가 3 cm인 직사각형의 넓이는 6 cm2이므로, 6 을 출력한다.\n",
    "\n",
    "예제 입력 2 \n",
    "100\n",
    "1\n",
    "예제 출력 2 \n",
    "100\n",
    "예제 입력 3 \n",
    "4\n",
    "4\n",
    "예제 출력 3 \n",
    "16\n",
    "\"\"\"\n",
    "a = int(input())\n",
    "b = int(input())\n",
    "\n",
    "print(a*b)"
   ]
  },
  {
   "cell_type": "code",
   "execution_count": 6,
   "id": "6475b0c7-9962-49dc-8a62-b69daf435ce8",
   "metadata": {},
   "outputs": [
    {
     "name": "stdin",
     "output_type": "stream",
     "text": [
      " 653 375 1000 1000\n"
     ]
    },
    {
     "name": "stdout",
     "output_type": "stream",
     "text": [
      "347\n"
     ]
    }
   ],
   "source": [
    "\"\"\"\n",
    "문제\n",
    "한수는 지금 (x, y)에 있다. 직사각형은 각 변이 좌표축에 평행하고, 왼쪽 아래 꼭짓점은 (0, 0), 오른쪽 위 꼭짓점은 (w, h)에 있다. 직사각형의 경계선까지 가는 거리의 최솟값을 구하는 프로그램을 작성하시오.\n",
    "\n",
    "입력\n",
    "첫째 줄에 x, y, w, h가 주어진다.\n",
    "\n",
    "출력\n",
    "첫째 줄에 문제의 정답을 출력한다.\n",
    "\n",
    "제한\n",
    "1 ≤ w, h ≤ 1,000\n",
    "1 ≤ x ≤ w-1\n",
    "1 ≤ y ≤ h-1\n",
    "x, y, w, h는 정수\n",
    "예제 입력 1 \n",
    "6 2 10 3\n",
    "예제 출력 1 \n",
    "1\n",
    "예제 입력 2 \n",
    "1 1 5 5\n",
    "예제 출력 2 \n",
    "1\n",
    "예제 입력 3 \n",
    "653 375 1000 1000\n",
    "예제 출력 3 \n",
    "347\n",
    "예제 입력 4 \n",
    "161 181 762 375\n",
    "예제 출력 4 \n",
    "161\n",
    "\"\"\"\n",
    "x,y,w,h = map(int, input().split())\n",
    "\n",
    "print(min([w-x, x, h-y, y]))"
   ]
  },
  {
   "cell_type": "code",
   "execution_count": 2,
   "id": "65337d2d-4944-4f43-85c1-80aa4c741c31",
   "metadata": {},
   "outputs": [
    {
     "name": "stdin",
     "output_type": "stream",
     "text": [
      " 5 5\n",
      " 5 7\n",
      " 7 5\n"
     ]
    },
    {
     "name": "stdout",
     "output_type": "stream",
     "text": [
      "7 7\n"
     ]
    }
   ],
   "source": [
    "\"\"\"\n",
    "문제\n",
    "세 점이 주어졌을 때, 축에 평행한 직사각형을 만들기 위해서 필요한 네 번째 점을 찾는 프로그램을 작성하시오.\n",
    "\n",
    "입력\n",
    "세 점의 좌표가 한 줄에 하나씩 주어진다. 좌표는 1보다 크거나 같고, 1000보다 작거나 같은 정수이다.\n",
    "\n",
    "출력\n",
    "직사각형의 네 번째 점의 좌표를 출력한다.\n",
    "\n",
    "예제 입력 1 \n",
    "5 5\n",
    "5 7\n",
    "7 5\n",
    "예제 출력 1 \n",
    "7 7\n",
    "예제 입력 2 \n",
    "30 20\n",
    "10 10\n",
    "10 20\n",
    "예제 출력 2 \n",
    "30 10\n",
    "\"\"\"\n",
    "x_li, y_li = [], []\n",
    "for i in range(3):\n",
    "    x, y = map(int, input().split())\n",
    "    x_li.append(x)\n",
    "    y_li.append(y)\n",
    "\n",
    "for x in x_li:\n",
    "    if x_li.count(x) == 1:\n",
    "        last_x = x\n",
    "for y in y_li:\n",
    "    if y_li.count(y) == 1:\n",
    "        last_y = y\n",
    "print(last_x, last_y)\n",
    "    \n",
    "    \n"
   ]
  },
  {
   "cell_type": "code",
   "execution_count": 8,
   "id": "33af712f-c7fa-4481-a2a3-919df69bf571",
   "metadata": {},
   "outputs": [
    {
     "data": {
      "text/plain": [
       "1"
      ]
     },
     "execution_count": 8,
     "metadata": {},
     "output_type": "execute_result"
    }
   ],
   "source": [
    "x_li = [5,5,7]\n",
    "x_li.count(5)\n",
    "x_li.count(7)"
   ]
  },
  {
   "cell_type": "code",
   "execution_count": 4,
   "id": "4601b9f9-dbfc-4df4-81d5-5c9e53bb3a71",
   "metadata": {},
   "outputs": [
    {
     "name": "stdin",
     "output_type": "stream",
     "text": [
      " 3\n"
     ]
    },
    {
     "name": "stdout",
     "output_type": "stream",
     "text": [
      "12\n"
     ]
    }
   ],
   "source": [
    "\"\"\"\n",
    "문제\n",
    "성원이는 수학을 정말 못 하는 고등학생이다. 수학을 못하는 대신 근성과 팔 힘이 뛰어난 성원이는 수학 시험에서 수학 지식을 사용하지 않고 근성과 체력을 사용해 문제를 푼다. 지난 시험에서는 아래 사진에 나와있는 문제를 근성과 체력을 사용해 열심히 풀었지만 사진에서 볼 수 있듯이 틀려버리고 말았다!\n",
    "\n",
    "\n",
    "\n",
    "결국 이 문제는 틀려버렸지만 성원이는 여전히 자신의 체력에 강한 자신감을 갖고 있다. 어떤 어려운 문제가 나와도 이런 식으로 근성과 체력을 사용하면 다 풀 수 있으니 이 방법은 최고의 방법이라고 생각하고 있다.\n",
    "\n",
    "성원이의 친구 형석이는 근성과 체력으로 수학 문제를 푸는 것은 굉장히 무식한 방법이라고 생각한다. 형석이는 수학을 공부하면 문제를 훨씬 빨리 풀 수 있다는 것을 알려주기 위해 위 사진에 나와있는 문제를 갖고 성원이와 퀴즈 내기를 하기로 했다. 위 사진의 문제를 다시 정리하면 아래와 같다.\n",
    "\n",
    "\"한 변의 길이가 1인 정사각형을 아래 그림과 같이 겹치지 않게 빈틈없이 계속 붙여 나간다. 가장 아랫부분의 정사각형이 n개가 되었을 때, 실선으로 이루어진 도형의 둘레의 길이를 구하시오.\"\n",
    "\n",
    "\n",
    "\n",
    "가장 아랫부분의 정사각형 개수가 주어지면 그에 해당하는 답을 출력하는 프로그램을 만들어 형석이를 도와주자!\n",
    "\n",
    "입력\n",
    "첫 번째 줄에 가장 아랫부분의 정사각형 개수 n이 주어진다. (1 ≤ n ≤ 109)\n",
    "\n",
    "출력\n",
    "첫 번째 줄에 형석이가 말해야 하는 답을 출력한다.\n",
    "\n",
    "예제 입력 1 \n",
    "1\n",
    "예제 출력 1 \n",
    "4\n",
    "예제 입력 2 \n",
    "3\n",
    "예제 출력 2 \n",
    "12\n",
    "\"\"\"\n",
    "n = int(input())\n",
    "print(int(0.5*n*2*2 + n*2)) "
   ]
  },
  {
   "cell_type": "code",
   "execution_count": 8,
   "id": "73537c88-db0f-48f5-930f-d39ad073bddd",
   "metadata": {},
   "outputs": [
    {
     "name": "stdin",
     "output_type": "stream",
     "text": [
      " 1\n",
      " 15 13\n"
     ]
    },
    {
     "name": "stdout",
     "output_type": "stream",
     "text": [
      "0\n"
     ]
    }
   ],
   "source": [
    "\"\"\"\n",
    "문제\n",
    " 임씨는 1950 년 한국전쟁으로 많은 손해를 본 사람들 중 하나다. 전쟁 통에 손해보지 않은 사람이 어디 있을까 만은 그는 6.25 가 일어나기 전만 해도 충청도 지방에 넓은 대지를 소유한 큰 부자였다. 전쟁이 나자 임씨는 땅문서와 값 나가는 것들만 챙겨서 일본으로 피난을 가지만 피난 중에 그만 땅문서를 잃어버리고 만다. 전쟁이 끝난 후에 임씨의 땅은 이미 다른 사람들의 논밭이 되어 있었고, 임씨는 땅을 되찾으려 했지만 문서가 없으니 생떼 쓰는 것과 다를 바 없었다. 이러다가 임씨는 길바닥에 나앉게 생겼다.\n",
    "\n",
    "이때, 임씨에게 좋은 생각이 떠올랐으니 바로 자신이 습관처럼 땅 깊숙이 뭔가 표식을 해놓았던 사실이다. 임씨는 한적할 때마다 자신의 논밭을 거닐다가 땅속 깊은 곳에 자신의 이름이 씌어진 옥구슬을 묻어놓았던 것이다. 즉, 어떤 지점에서 그의 이름이 적힌 옥구슬이 나온다면 그 지점은 예전에 임씨의 땅이었다는 것을 증명하는 것이다.\n",
    "\n",
    "임씨는 즉시 민사소송을 통해 자신의 땅을 찾고자 했고 논리적인 근거를 들어 옥구슬이 나오는 지점이 원래 자신의 땅의 한 지점이었다는 것을 주장하여 결국 담당판사를 설득하는 데에 성공하였다. 담당판사는 다음과 같은 판결을 내렸다. “ 6.25 이전의 개인소유 대지들은 99%가 남북, 동서 방향으로 평행한 직사각형 모양이었으므로, 임씨의 이름이 새겨진 옥구슬이 나오는 모든 지점을 포함하는 가장 작은 남북, 동서 방향으로 평행한 변을 갖는 직사각형의 대지를 임씨의 소유로 인정한다.” 임씨는 많은 손해를 보는 셈이지만 더 이상을 요구할 만한 근거가 없었기 때문에 이 판결을 따르기로 했다.\n",
    "\n",
    "임씨의 이름이 새겨진 옥구슬의 위치 N 개가 주어질 때에, 임씨에게 돌아갈 대지의 넓이를 계산하는 프로그램을 작성하시오. 단, 옥구슬의 위치는 2 차원 정수 좌표로 주어지고 옥구슬은 같은 위치에 여러 개가 발견될 수도 있으며, x 축의 양의방향을 동쪽, y 축의 양의방향을 북쪽이라고 가정한다. \n",
    "\n",
    "\n",
    "\n",
    "예를 들어 위와 같이 (2, 1), (3, 2), (5, 2), (3, 4) 네 점에서 옥구슬을 발견하였다면, 임씨에게 돌아갈 대지는 (2, 1), (5, 1), (2, 4), (5, 4)를 네 꼭짓점으로 하는 직사각형이며, 넓이는 (5 - 2) × (4 - 1) = 9 가 된다. \n",
    "\n",
    "입력\n",
    "첫째 줄에는 점의 개수 N (1 ≤ N ≤ 100,000) 이 주어진다. 이어지는 N 줄에는 각 점의 좌표가 두 개의 정수로 한 줄에 하나씩 주어진다. 각각의 좌표는 -10,000 이상 10,000 이하의 정수이다. \n",
    "\n",
    "출력\n",
    "첫째 줄에 N 개의 점을 둘러싸는 최소 크기의 직사각형의 넓이를 출력하시오. \n",
    "\n",
    "예제 입력 1 \n",
    "3\n",
    "20 24\n",
    "40 21\n",
    "10 12\n",
    "예제 출력 1 \n",
    "360\n",
    "예제 입력 2 \n",
    "1\n",
    "15 13\n",
    "예제 출력 2 \n",
    "0\n",
    "예제 입력 3 \n",
    "4\n",
    "2 1\n",
    "3 2\n",
    "5 2\n",
    "3 4\n",
    "예제 출력 3 \n",
    "9\n",
    "\"\"\"\n",
    "n = int(input())\n",
    "x_li, y_li = [], []\n",
    "for i in range(n):\n",
    "    x,y = map(int,input().split())\n",
    "    x_li.append(x)\n",
    "    y_li.append(y)\n",
    "if n == 1:\n",
    "    print(0)\n",
    "else:\n",
    "    print((max(x_li) - min(x_li))*(max(y_li) - min(y_li)))"
   ]
  },
  {
   "cell_type": "code",
   "execution_count": 13,
   "id": "6143b175-4b93-42d0-9dc1-ef5c2a059c5a",
   "metadata": {},
   "outputs": [
    {
     "name": "stdin",
     "output_type": "stream",
     "text": [
      " 50\n",
      " 65\n",
      " 65\n"
     ]
    },
    {
     "name": "stdout",
     "output_type": "stream",
     "text": [
      "Isosceles\n"
     ]
    }
   ],
   "source": [
    "\"\"\"\n",
    "문제\n",
    "창영이는 삼각형의 종류를 잘 구분하지 못한다. 따라서 프로그램을 이용해 이를 외우려고 한다.\n",
    "\n",
    "삼각형의 세 각을 입력받은 다음, \n",
    "\n",
    "세 각의 크기가 모두 60이면, Equilateral\n",
    "세 각의 합이 180이고, 두 각이 같은 경우에는 Isosceles\n",
    "세 각의 합이 180이고, 같은 각이 없는 경우에는 Scalene\n",
    "세 각의 합이 180이 아닌 경우에는 Error\n",
    "를 출력하는 프로그램을 작성하시오.\n",
    "\n",
    "입력\n",
    "총 3개의 줄에 걸쳐 삼각형의 각의 크기가 주어진다. 모든 정수는 0보다 크고, 180보다 작다.\n",
    "\n",
    "출력\n",
    "문제의 설명에 따라 Equilateral, Isosceles, Scalene, Error 중 하나를 출력한다.\n",
    "\n",
    "예제 입력 1 \n",
    "60\n",
    "70\n",
    "50\n",
    "예제 출력 1 \n",
    "Scalene\n",
    "\"\"\"\n",
    "angle_li = []\n",
    "for i in range(3):\n",
    "    angle = int(input())\n",
    "    angle_li.append(angle)\n",
    "\n",
    "tag = str()\n",
    "if sum(angle_li) == 180:\n",
    "    if angle_li.count(60) == 3:\n",
    "        tag = 'Equilateral'\n",
    "    else: #세각들을 비교\n",
    "        #세 각이 모두 다다른경우\n",
    "        if angle_li[0] != angle_li[1] and angle_li[0] != angle_li[2] and angle_li[1] != angle_li[2]:\n",
    "            tag = 'Scalene'\n",
    "        # 두 각이 같은 경우\n",
    "        else:\n",
    "            tag = 'Isosceles'\n",
    "    \n",
    "        \n",
    "\n",
    "else: #세각의 합이 180이 아닌경우 \n",
    "    tag = 'Error'\n",
    "print(tag)"
   ]
  },
  {
   "cell_type": "code",
   "execution_count": 17,
   "id": "595b49e8-0075-4c5e-8c31-252757217f3a",
   "metadata": {},
   "outputs": [
    {
     "name": "stdin",
     "output_type": "stream",
     "text": [
      " 7 7 7\n"
     ]
    },
    {
     "name": "stdout",
     "output_type": "stream",
     "text": [
      "Equilateral\n"
     ]
    },
    {
     "name": "stdin",
     "output_type": "stream",
     "text": [
      " 6 5 4\n"
     ]
    },
    {
     "name": "stdout",
     "output_type": "stream",
     "text": [
      "Scalene\n"
     ]
    },
    {
     "name": "stdin",
     "output_type": "stream",
     "text": [
      " 3 2 5\n"
     ]
    },
    {
     "name": "stdout",
     "output_type": "stream",
     "text": [
      "Invalid\n"
     ]
    },
    {
     "name": "stdin",
     "output_type": "stream",
     "text": [
      " 6 2 6\n"
     ]
    },
    {
     "name": "stdout",
     "output_type": "stream",
     "text": [
      "Isosceles\n"
     ]
    },
    {
     "name": "stdin",
     "output_type": "stream",
     "text": [
      " 0 0 0\n"
     ]
    }
   ],
   "source": [
    "\"\"\"\n",
    "문제\n",
    "삼각형의 세 변의 길이가 주어질 때 변의 길이에 따라 다음과 같이 정의한다.\n",
    "\n",
    "Equilateral :  세 변의 길이가 모두 같은 경우\n",
    "Isosceles : 두 변의 길이만 같은 경우\n",
    "Scalene : 세 변의 길이가 모두 다른 경우\n",
    "단 주어진 세 변의 길이가 삼각형의 조건을 만족하지 못하는 경우에는 \"Invalid\" 를 출력한다. 예를 들어 6, 3, 2가 이 경우에 해당한다. 가장 긴 변의 길이보다 나머지 두 변의 길이의 합이 길지 않으면 삼각형의 조건을 만족하지 못한다.\n",
    "\n",
    "세 변의 길이가 주어질 때 위 정의에 따른 결과를 출력하시오.\n",
    "\n",
    "입력\n",
    "각 줄에는 1,000을 넘지 않는 양의 정수 3개가 입력된다. 마지막 줄은 0 0 0이며 이 줄은 계산하지 않는다.\n",
    "\n",
    "출력\n",
    "각 입력에 맞는 결과 (Equilateral, Isosceles, Scalene, Invalid) 를 출력하시오.\n",
    "\n",
    "예제 입력 1 \n",
    "7 7 7\n",
    "6 5 4\n",
    "3 2 5\n",
    "6 2 6\n",
    "0 0 0\n",
    "예제 출력 1 \n",
    "Equilateral\n",
    "Scalene\n",
    "Invalid\n",
    "Isosceles\n",
    "\"\"\"\n",
    "while True:\n",
    "    a,b,c = map(int, input().split())\n",
    "    tmp = [a,b,c]\n",
    "    tmp.sort()\n",
    "    if a == 0 and b == 0 and c == 0:\n",
    "        break\n",
    "    else:\n",
    "        if tmp[2] >= tmp[0]+ tmp[1]:\n",
    "            tag = 'Invalid'\n",
    "        else:\n",
    "            if tmp.count(sum(tmp)/3) == 3:\n",
    "                tag = 'Equilateral'\n",
    "            elif tmp[0] != tmp[1] and tmp[0] != tmp[2] and tmp[1] != tmp[2]:\n",
    "                tag = 'Scalene'\n",
    "            else:\n",
    "                tag = 'Isosceles'\n",
    "                \n",
    "    print(tag)            \n"
   ]
  },
  {
   "cell_type": "code",
   "execution_count": 21,
   "id": "aa9d5c36-798f-4de2-b798-a656c3cbc532",
   "metadata": {},
   "outputs": [
    {
     "name": "stdin",
     "output_type": "stream",
     "text": [
      " 1 2 3\n"
     ]
    },
    {
     "name": "stdout",
     "output_type": "stream",
     "text": [
      "2\n",
      "5\n"
     ]
    }
   ],
   "source": [
    "\"\"\"\n",
    "문제\n",
    "영선이는 길이가 a, b, c인 세 막대를 가지고 있고, 각 막대의 길이를 마음대로 줄일 수 있다.\n",
    "\n",
    "영선이는 세 막대를 이용해서 아래 조건을 만족하는 삼각형을 만들려고 한다.\n",
    "\n",
    "각 막대의 길이는 양의 정수이다\n",
    "세 막대를 이용해서 넓이가 양수인 삼각형을 만들 수 있어야 한다.\n",
    "삼각형의 둘레를 최대로 해야 한다.\n",
    "a, b, c가 주어졌을 때, 만들 수 있는 가장 큰 둘레를 구하는 프로그램을 작성하시오. \n",
    "\n",
    "입력\n",
    "첫째 줄에 a, b, c (1 ≤ a, b, c ≤ 100)가 주어진다.\n",
    "\n",
    "출력\n",
    "첫째 줄에 만들 수 있는 가장 큰 삼각형의 둘레를 출력한다.\n",
    "\n",
    "예제 입력 1 \n",
    "1 2 3\n",
    "예제 출력 1 \n",
    "5\n",
    "예제 입력 2 \n",
    "2 2 2\n",
    "예제 출력 2 \n",
    "6\n",
    "예제 입력 3 \n",
    "1 100 1\n",
    "예제 출력 3 \n",
    "3\n",
    "예제 입력 4 \n",
    "41 64 16\n",
    "예제 출력 4 \n",
    "113\n",
    "\"\"\"\n",
    "a,b,c = map(int, input().split())\n",
    "tmp = [a,b,c]\n",
    "tmp.sort()\n",
    "cross = 0\n",
    "for i in range(tmp[2], 0, -1): \n",
    "    if i < tmp[0]+tmp[1]:\n",
    "        tmp[2] = i\n",
    "        break\n",
    "        \n",
    "print(sum(tmp))\n",
    "\n",
    "    "
   ]
  },
  {
   "cell_type": "code",
   "execution_count": 3,
   "id": "7dd83edc-83d5-4864-84cc-e4967d1f8231",
   "metadata": {},
   "outputs": [
    {
     "name": "stdout",
     "output_type": "stream",
     "text": [
      "3\n",
      "2\n"
     ]
    }
   ],
   "source": [
    "for i in range(3, 1, -1):\n",
    "    print(i)"
   ]
  },
  {
   "cell_type": "code",
   "execution_count": null,
   "id": "a234bfbd-6d46-4e68-815b-3cd5053db415",
   "metadata": {},
   "outputs": [],
   "source": []
  },
  {
   "cell_type": "code",
   "execution_count": null,
   "id": "b09bfe1a-bd15-4728-ad33-5edafb9d106b",
   "metadata": {},
   "outputs": [],
   "source": []
  }
 ],
 "metadata": {
  "kernelspec": {
   "display_name": "DH_2",
   "language": "python",
   "name": "dh"
  },
  "language_info": {
   "codemirror_mode": {
    "name": "ipython",
    "version": 3
   },
   "file_extension": ".py",
   "mimetype": "text/x-python",
   "name": "python",
   "nbconvert_exporter": "python",
   "pygments_lexer": "ipython3",
   "version": "3.9.13"
  }
 },
 "nbformat": 4,
 "nbformat_minor": 5
}
